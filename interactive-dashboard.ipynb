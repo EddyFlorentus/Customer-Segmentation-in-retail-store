{
  "nbformat": 4,
  "nbformat_minor": 0,
  "metadata": {
    "colab": {
      "provenance": []
    },
    "kernelspec": {
      "name": "python3",
      "display_name": "Python 3"
    },
    "language_info": {
      "name": "python"
    }
  },
  "cells": [
    {
      "cell_type": "markdown",
      "source": [
        "# **Interactive Dashboard**\n",
        "\n",
        "> To see the interactive dashboard click [Interactive dashboard](https://app.powerbi.com/view?r=eyJrIjoiMWNhNjgxMWMtNDE0ZC00NzdlLWFhODYtNjRjY2I1ZGMwZTIzIiwidCI6IjAxZjk5ZGY0LTY2MTctNGNjYi1hNjI3LWNkODU2YmEwYTVmOSIsImMiOjEwfQ%3D%3D)"
      ],
      "metadata": {
        "id": "5PQ7IVgRMhw-"
      }
    }
  ]
}